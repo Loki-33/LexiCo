{
  "nbformat": 4,
  "nbformat_minor": 0,
  "metadata": {
    "colab": {
      "provenance": [],
      "authorship_tag": "ABX9TyNpBO++KcK848DGVw7SGJ5N",
      "include_colab_link": true
    },
    "kernelspec": {
      "name": "python3",
      "display_name": "Python 3"
    },
    "language_info": {
      "name": "python"
    }
  },
  "cells": [
    {
      "cell_type": "markdown",
      "metadata": {
        "id": "view-in-github",
        "colab_type": "text"
      },
      "source": [
        "<a href=\"https://colab.research.google.com/github/Loki-33/LexiCo/blob/main/LexiCo.ipynb\" target=\"_parent\"><img src=\"https://colab.research.google.com/assets/colab-badge.svg\" alt=\"Open In Colab\"/></a>"
      ]
    },
    {
      "cell_type": "code",
      "execution_count": 1,
      "metadata": {
        "id": "HIobSAE1043E"
      },
      "outputs": [],
      "source": [
        "class Token:\n",
        "  def __init__(self, type_, value):\n",
        "    self.type = type_\n",
        "    self.value = value\n",
        "\n",
        "  def __repr__(self):\n",
        "    return f'Token({self.type}, {repr(self.value)})'"
      ]
    },
    {
      "cell_type": "code",
      "source": [
        "def is_whitespace(c):\n",
        "  return c in ' \\t\\n'\n",
        "\n",
        "def is_digit(c):\n",
        "  return c.isdigit()\n",
        "\n",
        "def is_letter(c):\n",
        "  return c.isalpha() or c == '_'"
      ],
      "metadata": {
        "id": "EOpR6RZQ1DbB"
      },
      "execution_count": 2,
      "outputs": []
    },
    {
      "cell_type": "code",
      "source": [
        "def lexer(text):\n",
        "  tokens = []\n",
        "  i = 0\n",
        "\n",
        "  while i < len(text):\n",
        "    char = text[i]\n",
        "\n",
        "    if is_whitespace(char):\n",
        "      i += 1\n",
        "      continue\n",
        "\n",
        "    if is_letter(char):\n",
        "      start = i\n",
        "      while i < len(text) and (is_letter(text[i]) or text[i].isdigit()):\n",
        "        i += 1\n",
        "      tokens.append(Token('IDENTIFIER', text[start:i]))\n",
        "      continue\n",
        "\n",
        "    if is_digit(char):\n",
        "      start = i\n",
        "      while i<len(text) and text[i].isdigit():\n",
        "        i += 1\n",
        "      tokens.append(Token('NUMBER', text[start:i]))\n",
        "      continue\n",
        "    if char == '+':\n",
        "      tokens.append(Token('PLUS', char))\n",
        "    elif char == '-':\n",
        "      tokens.append(Token('MINUS', char))\n",
        "    elif char == '*':\n",
        "      tokens.append(Token('MUL', char))\n",
        "    elif char == '/':\n",
        "      tokens.append(Token('DIV', char))\n",
        "    elif char == '=':\n",
        "      tokens.append(Token('ASSIGN', char))\n",
        "    elif char == '(':\n",
        "      tokens.append(Token('LPAREN', char))\n",
        "    elif char == ')':\n",
        "      tokens.append(Token('RPAREN', char))\n",
        "    else:\n",
        "      raise Exception(f\"Unexpected character: {char}\")\n",
        "\n",
        "    i += 1\n",
        "\n",
        "  return tokens"
      ],
      "metadata": {
        "id": "c3DgY_O_1Ups"
      },
      "execution_count": 37,
      "outputs": []
    },
    {
      "cell_type": "code",
      "source": [
        "code = \"x = 42 + y * (7 - 2)\"\n",
        "tokens = lexer(code)\n",
        "for t in tokens:\n",
        "  print(t)"
      ],
      "metadata": {
        "colab": {
          "base_uri": "https://localhost:8080/"
        },
        "id": "CFkzOfOg2eNS",
        "outputId": "5c2ff58e-245d-4264-be72-1ed52d1a59cc"
      },
      "execution_count": 4,
      "outputs": [
        {
          "output_type": "stream",
          "name": "stdout",
          "text": [
            "Token(ID, 'x')\n",
            "Token(ASSIGN, '=')\n",
            "Token(NUMBER, '42')\n",
            "Token(PLUS, '+')\n",
            "Token(ID, 'y')\n",
            "Token(MUL, '*')\n",
            "Token(LPAREN, '(')\n",
            "Token(NUMBER, '7')\n",
            "Token(MINUS, '-')\n",
            "Token(NUMBER, '2')\n",
            "Token(RPAREN, ')')\n"
          ]
        }
      ]
    },
    {
      "cell_type": "code",
      "source": [],
      "metadata": {
        "id": "L5aw1JHx9l5Q"
      },
      "execution_count": null,
      "outputs": []
    },
    {
      "cell_type": "markdown",
      "source": [
        "**USING REGULAR EXPRESSION**"
      ],
      "metadata": {
        "id": "GkiDa7Ze2e6m"
      }
    },
    {
      "cell_type": "code",
      "source": [
        "import re"
      ],
      "metadata": {
        "id": "1d1ml5KO2Vcu"
      },
      "execution_count": 5,
      "outputs": []
    },
    {
      "cell_type": "code",
      "source": [
        "TOKEN_SPEC = [\n",
        "    ('NUMBER',      r'\\d+(\\.\\d+)?'),    # Integer or decimal\n",
        "    ('IDENTIFIER',  r'[A-Za-z_]\\w*'),   # Variable/function names\n",
        "    ('ASSIGN',      r'='),              # =\n",
        "    ('PLUS',        r'\\+'),             # +\n",
        "    ('MINUS',       r'-'),              # -\n",
        "    ('MUL',         r'\\*'),             # *\n",
        "    ('DIV',         r'/'),              # /\n",
        "    ('LPAREN',      r'\\('),             # (\n",
        "    ('RPAREN',      r'\\)'),             # )\n",
        "    ('SKIP',        r'[ \\t]+'),         # Spaces/tabs (ignored)\n",
        "    ('NEWLINE',     r'\\n'),             # Newlines (optional)\n",
        "    ('MISMATCH',    r'.'),              # Any other character (error)\n",
        "]"
      ],
      "metadata": {
        "id": "C0VVukuO2kfb"
      },
      "execution_count": 6,
      "outputs": []
    },
    {
      "cell_type": "code",
      "source": [
        "TOKEN_REGEX = '|'.join(f'(?P<{name}>{pattern})' for name, pattern in TOKEN_SPEC)\n",
        "MASTER_RE = re.compile(TOKEN_REGEX)"
      ],
      "metadata": {
        "id": "v2qM81im2_MF"
      },
      "execution_count": 7,
      "outputs": []
    },
    {
      "cell_type": "code",
      "source": [
        "def re_lexer(code):\n",
        "  tokens = []\n",
        "  for match in MASTER_RE.finditer(code):\n",
        "    kind = match.lastgroup\n",
        "    value = match.group()\n",
        "\n",
        "    if kind == 'SKIP' or kind == 'NEWLINE':\n",
        "      continue\n",
        "    elif kind == 'MISMATCH':\n",
        "      raise RuntimeError(f\"Unexpected character: {value}\")\n",
        "    else:\n",
        "      tokens.append(Token(kind, value))\n",
        "  return tokens"
      ],
      "metadata": {
        "id": "ecVtsJcU3Fi7"
      },
      "execution_count": 8,
      "outputs": []
    },
    {
      "cell_type": "code",
      "source": [
        "code = \"x = 12 + 4.5 * (y - 7)\"\n",
        "tokens = re_lexer(code)\n",
        "for tok in tokens:\n",
        "    print(tok)"
      ],
      "metadata": {
        "colab": {
          "base_uri": "https://localhost:8080/"
        },
        "id": "1CVadJ793daI",
        "outputId": "368d3af1-9478-443f-e762-c664539c6aab"
      },
      "execution_count": 9,
      "outputs": [
        {
          "output_type": "stream",
          "name": "stdout",
          "text": [
            "Token(IDENTIFIER, 'x')\n",
            "Token(ASSIGN, '=')\n",
            "Token(NUMBER, '12')\n",
            "Token(PLUS, '+')\n",
            "Token(NUMBER, '4.5')\n",
            "Token(MUL, '*')\n",
            "Token(LPAREN, '(')\n",
            "Token(IDENTIFIER, 'y')\n",
            "Token(MINUS, '-')\n",
            "Token(NUMBER, '7')\n",
            "Token(RPAREN, ')')\n"
          ]
        }
      ]
    },
    {
      "cell_type": "code",
      "source": [],
      "metadata": {
        "id": "65-pJW-L9fUO"
      },
      "execution_count": null,
      "outputs": []
    },
    {
      "cell_type": "markdown",
      "source": [
        "**AST-Abstract Syntax Tree**\n"
      ],
      "metadata": {
        "id": "QEvcSw9u9cAL"
      }
    },
    {
      "cell_type": "code",
      "source": [
        "class AST:\n",
        "  def __init__(self, type_, value=None, children=None):\n",
        "    self.type = type_\n",
        "    self.value = value\n",
        "    self.childrens = children if children else []\n",
        "\n",
        "  def __repr__(self, level=0):\n",
        "    indent = \"  \" * level\n",
        "    rep = f\"{indent}{self.type}: {self.value}\\n\"\n",
        "    for child in self.childrens:\n",
        "      rep += child.__repr__(level+1)\n",
        "    return rep"
      ],
      "metadata": {
        "id": "lDgLCzqO6Jau"
      },
      "execution_count": 19,
      "outputs": []
    },
    {
      "cell_type": "code",
      "source": [
        "AST('IDENTITY', 'x', [AST(\"ASSIGN\", '=', [AST(\"BINARY_OP\", '+', [\n",
        "    AST(\"NUMBER\", 3),\n",
        "    AST(\"NUMBER\", 2)\n",
        "])])])"
      ],
      "metadata": {
        "colab": {
          "base_uri": "https://localhost:8080/"
        },
        "id": "PoKKLL976eBf",
        "outputId": "7302aaa3-a6bd-4ea8-f977-291ab4efe624"
      },
      "execution_count": 33,
      "outputs": [
        {
          "output_type": "execute_result",
          "data": {
            "text/plain": [
              "IDENTITY: x\n",
              "  ASSIGN: =\n",
              "    BINARY_OP: +\n",
              "      NUMBER: 3\n",
              "      NUMBER: 2"
            ]
          },
          "metadata": {},
          "execution_count": 33
        }
      ]
    },
    {
      "cell_type": "code",
      "source": [],
      "metadata": {
        "id": "eJJx_hXd6JSW"
      },
      "execution_count": 33,
      "outputs": []
    },
    {
      "cell_type": "markdown",
      "source": [
        "**PARSER TIME**"
      ],
      "metadata": {
        "id": "T5AFNmYw9q3b"
      }
    },
    {
      "cell_type": "code",
      "source": [
        "class Parser:\n",
        "  def __init__(self, tokens):\n",
        "    self.tokens = tokens\n",
        "    self.pos = 0\n",
        "\n",
        "  def current(self):\n",
        "    if self.pos < len(self.tokens):\n",
        "      return self.tokens[self.pos]\n",
        "    return Token('EOF', None)\n",
        "\n",
        "  def eat(self, type_):\n",
        "    if self.current().type == type_:\n",
        "      self.pos += 1\n",
        "    else:\n",
        "      raise Exception(f\"Expected token {type_}, got {self.current().type}\")\n",
        "\n",
        "  def parse(self):\n",
        "    return self.parse_assignment()\n",
        "\n",
        "  def parse_assignment(self):\n",
        "    var_name = self.current().value\n",
        "    self.eat('IDENTIFIER')\n",
        "    self.eat('ASSIGN')\n",
        "    expr = self.parse_expression()\n",
        "    return AST('ASSIGN', \"=\", [AST(\"IDENTIFIER\", var_name), expr])\n",
        "\n",
        "  def parse_expression(self):\n",
        "    node = self.parse_term()\n",
        "    while self.current().type in ('PLUS', 'MINUS'):\n",
        "      op = self.current()\n",
        "      self.eat(op.type)\n",
        "      right = self.parse_term()\n",
        "      node = AST('BINARY_OP', op.value, [node, right])\n",
        "    return node\n",
        "\n",
        "  def parse_term(self):\n",
        "    node = self.parse_factor()\n",
        "    while self.current().type in ('MUL', 'DIV'):\n",
        "      op = self.current()\n",
        "      self.eat(op.type)\n",
        "      right = self.parse_factor()\n",
        "      node = AST('BINARY_OP', op.value, [node, right])\n",
        "    return node\n",
        "\n",
        "  def parse_factor(self):\n",
        "    token = self.current()\n",
        "    if token.type == 'NUMBER':\n",
        "      self.eat('NUMBER')\n",
        "      return AST('NUMBER', token.value)\n",
        "    elif token.type == 'IDENTIFIER':\n",
        "      self.eat('IDENTIFIER')\n",
        "      return AST('IDENTIFIER', token.value)\n",
        "    elif token.type == 'LPAREN':\n",
        "      self.eat('LPAREN')\n",
        "      node = self.parse_expression()\n",
        "      self.eat('RPAREN')\n",
        "      return node\n",
        "    else:\n",
        "      raise Exception(f\"Unexpected token: {token.type}\")"
      ],
      "metadata": {
        "id": "pUEvKgW56JNs"
      },
      "execution_count": 46,
      "outputs": []
    },
    {
      "cell_type": "code",
      "source": [
        "code = \"x = 12 + 45 * (y - 7)\"\n",
        "tokens = lexer(code)\n",
        "parser = Parser(tokens)\n",
        "ast = parser.parse()\n",
        "print(ast)"
      ],
      "metadata": {
        "colab": {
          "base_uri": "https://localhost:8080/"
        },
        "id": "b2Lng5F56JIm",
        "outputId": "374f4445-fb3a-4687-89dc-a9827f0e084f"
      },
      "execution_count": 47,
      "outputs": [
        {
          "output_type": "stream",
          "name": "stdout",
          "text": [
            "ASSIGN: =\n",
            "  IDENTIFIER: x\n",
            "  BINARY_OP: +\n",
            "    NUMBER: 12\n",
            "    BINARY_OP: *\n",
            "      NUMBER: 45\n",
            "      BINARY_OP: -\n",
            "        IDENTIFIER: y\n",
            "        NUMBER: 7\n",
            "\n"
          ]
        }
      ]
    },
    {
      "cell_type": "code",
      "source": [
        "from graphviz import Digraph"
      ],
      "metadata": {
        "id": "d6jeP05n6JCS"
      },
      "execution_count": 48,
      "outputs": []
    },
    {
      "cell_type": "code",
      "source": [
        "\n",
        "dot = Digraph()\n",
        "counter = [0]\n",
        "\n",
        "def add_node(node):\n",
        "  node_id = f\"node{counter[0]}\"\n",
        "  counter[0]+= 1\n",
        "\n",
        "  label = f'{node.type}'\n",
        "  if node.value is not None:\n",
        "    label += f': {node.value}'\n",
        "\n",
        "  dot.node(node_id, label)\n",
        "\n",
        "  for child in node.childrens:\n",
        "    child_id = add_node(child)\n",
        "    dot.edge(node_id, child_id)\n",
        "  return node_id\n",
        "\n",
        "add_node(ast)"
      ],
      "metadata": {
        "colab": {
          "base_uri": "https://localhost:8080/",
          "height": 35
        },
        "id": "LRqSgnPG6Iu_",
        "outputId": "10a23529-f2b6-48d2-f1fd-eba8cc835cbb"
      },
      "execution_count": 55,
      "outputs": [
        {
          "output_type": "execute_result",
          "data": {
            "text/plain": [
              "'node0'"
            ],
            "application/vnd.google.colaboratory.intrinsic+json": {
              "type": "string"
            }
          },
          "metadata": {},
          "execution_count": 55
        }
      ]
    },
    {
      "cell_type": "code",
      "source": [
        "dot"
      ],
      "metadata": {
        "colab": {
          "base_uri": "https://localhost:8080/",
          "height": 463
        },
        "id": "7n-4xOJm3oIO",
        "outputId": "60408091-2bb7-45f5-9451-f2d6046fc55a"
      },
      "execution_count": 52,
      "outputs": [
        {
          "output_type": "execute_result",
          "data": {
            "image/svg+xml": "<?xml version=\"1.0\" encoding=\"UTF-8\" standalone=\"no\"?>\n<!DOCTYPE svg PUBLIC \"-//W3C//DTD SVG 1.1//EN\"\n \"http://www.w3.org/Graphics/SVG/1.1/DTD/svg11.dtd\">\n<!-- Generated by graphviz version 2.43.0 (0)\n -->\n<!-- Title: %3 Pages: 1 -->\n<svg width=\"511pt\" height=\"332pt\"\n viewBox=\"0.00 0.00 511.09 332.00\" xmlns=\"http://www.w3.org/2000/svg\" xmlns:xlink=\"http://www.w3.org/1999/xlink\">\n<g id=\"graph0\" class=\"graph\" transform=\"scale(1 1) rotate(0) translate(4 328)\">\n<title>%3</title>\n<polygon fill=\"white\" stroke=\"transparent\" points=\"-4,4 -4,-328 507.09,-328 507.09,4 -4,4\"/>\n<!-- node0 -->\n<g id=\"node1\" class=\"node\">\n<title>node0</title>\n<ellipse fill=\"none\" stroke=\"black\" cx=\"146.24\" cy=\"-306\" rx=\"52.79\" ry=\"18\"/>\n<text text-anchor=\"middle\" x=\"146.24\" y=\"-302.3\" font-family=\"Times,serif\" font-size=\"14.00\">ASSIGN: =</text>\n</g>\n<!-- node1 -->\n<g id=\"node2\" class=\"node\">\n<title>node1</title>\n<ellipse fill=\"none\" stroke=\"black\" cx=\"68.24\" cy=\"-234\" rx=\"68.49\" ry=\"18\"/>\n<text text-anchor=\"middle\" x=\"68.24\" y=\"-230.3\" font-family=\"Times,serif\" font-size=\"14.00\">IDENTIFIER: x</text>\n</g>\n<!-- node0&#45;&gt;node1 -->\n<g id=\"edge1\" class=\"edge\">\n<title>node0&#45;&gt;node1</title>\n<path fill=\"none\" stroke=\"black\" d=\"M128.15,-288.76C118.09,-279.73 105.38,-268.33 94.26,-258.35\"/>\n<polygon fill=\"black\" stroke=\"black\" points=\"96.29,-255.46 86.51,-251.39 91.61,-260.67 96.29,-255.46\"/>\n</g>\n<!-- node2 -->\n<g id=\"node3\" class=\"node\">\n<title>node2</title>\n<ellipse fill=\"none\" stroke=\"black\" cx=\"224.24\" cy=\"-234\" rx=\"69.59\" ry=\"18\"/>\n<text text-anchor=\"middle\" x=\"224.24\" y=\"-230.3\" font-family=\"Times,serif\" font-size=\"14.00\">BINARY_OP: +</text>\n</g>\n<!-- node0&#45;&gt;node2 -->\n<g id=\"edge8\" class=\"edge\">\n<title>node0&#45;&gt;node2</title>\n<path fill=\"none\" stroke=\"black\" d=\"M164.33,-288.76C174.4,-279.73 187.11,-268.33 198.23,-258.35\"/>\n<polygon fill=\"black\" stroke=\"black\" points=\"200.88,-260.67 205.98,-251.39 196.2,-255.46 200.88,-260.67\"/>\n</g>\n<!-- node3 -->\n<g id=\"node4\" class=\"node\">\n<title>node3</title>\n<ellipse fill=\"none\" stroke=\"black\" cx=\"150.24\" cy=\"-162\" rx=\"62.29\" ry=\"18\"/>\n<text text-anchor=\"middle\" x=\"150.24\" y=\"-158.3\" font-family=\"Times,serif\" font-size=\"14.00\">NUMBER: 12</text>\n</g>\n<!-- node2&#45;&gt;node3 -->\n<g id=\"edge2\" class=\"edge\">\n<title>node2&#45;&gt;node3</title>\n<path fill=\"none\" stroke=\"black\" d=\"M206.71,-216.41C197.21,-207.43 185.33,-196.19 174.92,-186.34\"/>\n<polygon fill=\"black\" stroke=\"black\" points=\"177.32,-183.8 167.66,-179.47 172.51,-188.88 177.32,-183.8\"/>\n</g>\n<!-- node4 -->\n<g id=\"node5\" class=\"node\">\n<title>node4</title>\n<ellipse fill=\"none\" stroke=\"black\" cx=\"299.24\" cy=\"-162\" rx=\"68.79\" ry=\"18\"/>\n<text text-anchor=\"middle\" x=\"299.24\" y=\"-158.3\" font-family=\"Times,serif\" font-size=\"14.00\">BINARY_OP: *</text>\n</g>\n<!-- node2&#45;&gt;node4 -->\n<g id=\"edge7\" class=\"edge\">\n<title>node2&#45;&gt;node4</title>\n<path fill=\"none\" stroke=\"black\" d=\"M242.02,-216.41C251.64,-207.43 263.68,-196.19 274.23,-186.34\"/>\n<polygon fill=\"black\" stroke=\"black\" points=\"276.68,-188.85 281.6,-179.47 271.9,-183.73 276.68,-188.85\"/>\n</g>\n<!-- node5 -->\n<g id=\"node6\" class=\"node\">\n<title>node5</title>\n<ellipse fill=\"none\" stroke=\"black\" cx=\"225.24\" cy=\"-90\" rx=\"62.29\" ry=\"18\"/>\n<text text-anchor=\"middle\" x=\"225.24\" y=\"-86.3\" font-family=\"Times,serif\" font-size=\"14.00\">NUMBER: 45</text>\n</g>\n<!-- node4&#45;&gt;node5 -->\n<g id=\"edge3\" class=\"edge\">\n<title>node4&#45;&gt;node5</title>\n<path fill=\"none\" stroke=\"black\" d=\"M281.71,-144.41C272.21,-135.43 260.33,-124.19 249.92,-114.34\"/>\n<polygon fill=\"black\" stroke=\"black\" points=\"252.32,-111.8 242.66,-107.47 247.51,-116.88 252.32,-111.8\"/>\n</g>\n<!-- node6 -->\n<g id=\"node7\" class=\"node\">\n<title>node6</title>\n<ellipse fill=\"none\" stroke=\"black\" cx=\"373.24\" cy=\"-90\" rx=\"67.69\" ry=\"18\"/>\n<text text-anchor=\"middle\" x=\"373.24\" y=\"-86.3\" font-family=\"Times,serif\" font-size=\"14.00\">BINARY_OP: &#45;</text>\n</g>\n<!-- node4&#45;&gt;node6 -->\n<g id=\"edge6\" class=\"edge\">\n<title>node4&#45;&gt;node6</title>\n<path fill=\"none\" stroke=\"black\" d=\"M316.78,-144.41C326.27,-135.43 338.15,-124.19 348.57,-114.34\"/>\n<polygon fill=\"black\" stroke=\"black\" points=\"350.97,-116.88 355.83,-107.47 346.16,-111.8 350.97,-116.88\"/>\n</g>\n<!-- node7 -->\n<g id=\"node8\" class=\"node\">\n<title>node7</title>\n<ellipse fill=\"none\" stroke=\"black\" cx=\"301.24\" cy=\"-18\" rx=\"68.49\" ry=\"18\"/>\n<text text-anchor=\"middle\" x=\"301.24\" y=\"-14.3\" font-family=\"Times,serif\" font-size=\"14.00\">IDENTIFIER: y</text>\n</g>\n<!-- node6&#45;&gt;node7 -->\n<g id=\"edge4\" class=\"edge\">\n<title>node6&#45;&gt;node7</title>\n<path fill=\"none\" stroke=\"black\" d=\"M356.18,-72.41C347.03,-63.52 335.61,-52.41 325.55,-42.63\"/>\n<polygon fill=\"black\" stroke=\"black\" points=\"327.79,-39.93 318.18,-35.47 322.91,-44.95 327.79,-39.93\"/>\n</g>\n<!-- node8 -->\n<g id=\"node9\" class=\"node\">\n<title>node8</title>\n<ellipse fill=\"none\" stroke=\"black\" cx=\"445.24\" cy=\"-18\" rx=\"57.69\" ry=\"18\"/>\n<text text-anchor=\"middle\" x=\"445.24\" y=\"-14.3\" font-family=\"Times,serif\" font-size=\"14.00\">NUMBER: 7</text>\n</g>\n<!-- node6&#45;&gt;node8 -->\n<g id=\"edge5\" class=\"edge\">\n<title>node6&#45;&gt;node8</title>\n<path fill=\"none\" stroke=\"black\" d=\"M390.31,-72.41C399.45,-63.52 410.88,-52.41 420.94,-42.63\"/>\n<polygon fill=\"black\" stroke=\"black\" points=\"423.57,-44.95 428.3,-35.47 418.69,-39.93 423.57,-44.95\"/>\n</g>\n</g>\n</svg>\n",
            "text/plain": [
              "<graphviz.graphs.Digraph at 0x7bc802d37b50>"
            ]
          },
          "metadata": {},
          "execution_count": 52
        }
      ]
    },
    {
      "cell_type": "code",
      "source": [],
      "metadata": {
        "id": "-U8MmcWU3tGR"
      },
      "execution_count": 18,
      "outputs": []
    }
  ]
}